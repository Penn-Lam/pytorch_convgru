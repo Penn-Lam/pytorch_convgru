{
 "cells": [
  {
   "cell_type": "markdown",
   "metadata": {},
   "source": [
    "# ConvGRU Model Demo in Mindspore\n",
    "\n",
    "This notebook demonstrates the implementation and usage of ConvGRU (Convolutional Gated Recurrent Unit) in Mindspore."
   ]
  },
  {
   "cell_type": "code",
   "execution_count": null,
   "metadata": {},
   "source": [
    "import numpy as np\n",
    "import mindspore\n",
    "from mindspore import nn, ops\n",
    "from mindspore import context\n",
    "\n",
    "# Set context\n",
    "context.set_context(mode=context.GRAPH_MODE, device_target=\"CPU\")"
   ]
  },
  {
   "cell_type": "code",
   "execution_count": null,
   "metadata": {},
   "source": [
    "# Import our ConvGRU implementation\n",
    "from mindspore_convgru_model import ConvGRUCell, ConvGRU"
   ]
  },
  {
   "cell_type": "markdown",
   "metadata": {},
   "source": [
    "## Create Sample Data"
   ]
  },
  {
   "cell_type": "code",
   "execution_count": null,
   "metadata": {},
   "source": [
    "# Create sample input data\n",
    "batch_size = 4\n",
    "seq_len = 10\n",
    "height = 64\n",
    "width = 64\n",
    "input_channels = 3\n",
    "hidden_channels = 16\n",
    "\n",
    "# Create random input sequence\n",
    "input_tensor = np.random.randn(batch_size, seq_len, input_channels, height, width).astype(np.float32)\n",
    "input_tensor = mindspore.Tensor(input_tensor)"
   ]
  },
  {
   "cell_type": "markdown",
   "metadata": {},
   "source": [
    "## Initialize and Test ConvGRU Model"
   ]
  },
  {
   "cell_type": "code",
   "execution_count": null,
   "metadata": {},
   "source": [
    "# Initialize ConvGRU\n",
    "convgru = ConvGRU(\n",
    "    input_channels=input_channels,\n",
    "    hidden_channels=hidden_channels,\n",
    "    kernel_size=3,\n",
    "    num_layers=2,\n",
    "    batch_first=True,\n",
    "    bias=True,\n",
    "    return_all_layers=True\n",
    ")\n",
    "\n",
    "# Forward pass\n",
    "layer_output_list, last_state_list = convgru(input_tensor)\n",
    "\n",
    "# Print output shapes\n",
    "print(\"\\nOutput shapes:\")\n",
    "for i, output in enumerate(layer_output_list):\n",
    "    print(f\"Layer {i} output shape: {output.shape}\")\n",
    "\n",
    "print(\"\\nLast state shapes:\")\n",
    "for i, state in enumerate(last_state_list):\n",
    "    print(f\"Layer {i} last state shape: {state.shape}\")"
   ]
  },
  {
   "cell_type": "markdown",
   "metadata": {},
   "source": [
    "## Visualize Feature Maps\n",
    "\n",
    "Let's visualize some feature maps from the output"
   ]
  },
  {
   "cell_type": "code",
   "execution_count": null,
   "metadata": {},
   "source": [
    "import matplotlib.pyplot as plt\n",
    "\n",
    "def plot_feature_maps(feature_maps, num_maps=4):\n",
    "    # Get the first batch, last timestep\n",
    "    features = feature_maps[0, -1].asnumpy()\n",
    "    \n",
    "    fig, axes = plt.subplots(1, num_maps, figsize=(15, 3))\n",
    "    for i in range(num_maps):\n",
    "        axes[i].imshow(features[i], cmap='viridis')\n",
    "        axes[i].axis('off')\n",
    "        axes[i].set_title(f'Feature Map {i}')\n",
    "    plt.tight_layout()\n",
    "    plt.show()\n",
    "\n",
    "# Plot feature maps from the last layer\n",
    "plot_feature_maps(layer_output_list[-1])"
   ]
  }
 ],
 "metadata": {
  "kernelspec": {
   "display_name": "Python 3",
   "language": "python",
   "name": "python3"
  },
  "language_info": {
   "codemirror_mode": {
    "name": "ipython",
    "version": 3
   },
   "file_extension": ".py",
   "mimetype": "text/x-python",
   "name": "python",
   "nbconvert_exporter": "python",
   "pygments_lexer": "ipython3",
   "version": "3.8.0"
  }
 },
 "nbformat": 4,
 "nbformat_minor": 4
}
